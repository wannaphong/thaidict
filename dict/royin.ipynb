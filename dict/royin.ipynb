{
 "cells": [
  {
   "cell_type": "code",
   "execution_count": 1,
   "metadata": {},
   "outputs": [],
   "source": [
    "import json"
   ]
  },
  {
   "cell_type": "code",
   "execution_count": 2,
   "metadata": {},
   "outputs": [],
   "source": [
    "from pythainlp import thai_consonants\n",
    "import requests\n",
    "r=requests.get('http://www.royin.go.th/dictionary/Lookup/lookupDomain.php?page=900&domain=%E0%B8%88')"
   ]
  },
  {
   "cell_type": "code",
   "execution_count": 3,
   "metadata": {},
   "outputs": [
    {
     "data": {
      "text/plain": [
       "'[1280,[]]'"
      ]
     },
     "execution_count": 3,
     "metadata": {},
     "output_type": "execute_result"
    }
   ],
   "source": [
    "r.text"
   ]
  },
  {
   "cell_type": "code",
   "execution_count": 4,
   "metadata": {},
   "outputs": [
    {
     "data": {
      "text/plain": [
       "0"
      ]
     },
     "execution_count": 4,
     "metadata": {},
     "output_type": "execute_result"
    }
   ],
   "source": [
    "len(json.loads(r.text)[1])"
   ]
  },
  {
   "cell_type": "code",
   "execution_count": 5,
   "metadata": {},
   "outputs": [],
   "source": [
    "thai=thai_consonants"
   ]
  },
  {
   "cell_type": "code",
   "execution_count": 6,
   "metadata": {},
   "outputs": [
    {
     "data": {
      "text/plain": [
       "'กขฃคฅฆงจฉชซฌญฎฏฐฑฒณดตถทธนบปผฝพฟภมยรลวศษสหฬอฮ'"
      ]
     },
     "execution_count": 6,
     "metadata": {},
     "output_type": "execute_result"
    }
   ],
   "source": [
    "thai"
   ]
  },
  {
   "cell_type": "code",
   "execution_count": 7,
   "metadata": {},
   "outputs": [],
   "source": [
    "def get_data(url):\n",
    "    r=requests.get(url)\n",
    "    return json.loads(r.text)[1]"
   ]
  },
  {
   "cell_type": "code",
   "execution_count": 8,
   "metadata": {},
   "outputs": [],
   "source": [
    "dictall=[]"
   ]
  },
  {
   "cell_type": "code",
   "execution_count": 9,
   "metadata": {},
   "outputs": [
    {
     "name": "stdout",
     "output_type": "stream",
     "text": [
      "ก\n",
      "ข\n",
      "ฃ\n",
      "ค\n",
      "ฅ\n",
      "ฆ\n",
      "ง\n",
      "จ\n",
      "ฉ\n",
      "ช\n",
      "ซ\n",
      "ฌ\n",
      "ญ\n",
      "ฎ\n",
      "ฏ\n",
      "ฐ\n",
      "ฑ\n",
      "ฒ\n",
      "ณ\n",
      "ด\n",
      "ต\n",
      "ถ\n",
      "ท\n",
      "ธ\n",
      "น\n",
      "บ\n",
      "ป\n",
      "ผ\n",
      "ฝ\n",
      "พ\n",
      "ฟ\n",
      "ภ\n",
      "ม\n",
      "ย\n",
      "ร\n",
      "ล\n",
      "ว\n",
      "ศ\n",
      "ษ\n",
      "ส\n",
      "ห\n",
      "ฬ\n",
      "อ\n",
      "ฮ\n"
     ]
    }
   ],
   "source": [
    "for i in thai:\n",
    "    j=1\n",
    "    print(i)\n",
    "    y=True\n",
    "    while y:\n",
    "        url='http://www.royin.go.th/dictionary/Lookup/lookupDomain.php?page='+str(j)+'&domain='+str(i)\n",
    "        d=get_data(url)\n",
    "        if len(d)==0:\n",
    "            break\n",
    "        else:\n",
    "            dictall.extend(d)\n",
    "        j+=1"
   ]
  },
  {
   "cell_type": "code",
   "execution_count": 11,
   "metadata": {},
   "outputs": [
    {
     "data": {
      "text/plain": [
       "37619"
      ]
     },
     "execution_count": 11,
     "metadata": {},
     "output_type": "execute_result"
    }
   ],
   "source": [
    "len(dictall)"
   ]
  },
  {
   "cell_type": "code",
   "execution_count": 12,
   "metadata": {},
   "outputs": [],
   "source": [
    "with open(\"royin54.txt\",\"w\",encoding=\"utf-8\") as f:\n",
    "    f.write(\"\\n\".join(dictall))"
   ]
  },
  {
   "cell_type": "code",
   "execution_count": null,
   "metadata": {},
   "outputs": [],
   "source": []
  }
 ],
 "metadata": {
  "kernelspec": {
   "display_name": "Python 3",
   "language": "python",
   "name": "python3"
  },
  "language_info": {
   "codemirror_mode": {
    "name": "ipython",
    "version": 3
   },
   "file_extension": ".py",
   "mimetype": "text/x-python",
   "name": "python",
   "nbconvert_exporter": "python",
   "pygments_lexer": "ipython3",
   "version": "3.7.3"
  }
 },
 "nbformat": 4,
 "nbformat_minor": 2
}
